{
 "cells": [
  {
   "cell_type": "markdown",
   "id": "3c669ac9",
   "metadata": {},
   "source": [
    "# 📘 IBM HR Attrition Analysis\n",
    "\n",
    "**Tên đề tài:** Phân tích và Dự đoán Nghỉ Việc của Nhân viên (Attrition)\n",
    "\n",
    "**Thành viên nhóm:**\n",
    "- Don\n",
    "- Hùng\n",
    "- Hải"
   ]
  },
  {
   "cell_type": "markdown",
   "id": "bddd0a14",
   "metadata": {},
   "source": [
    "## 📌 Phase 1: Hiểu & Thống kê sơ bộ"
   ]
  },
  {
   "cell_type": "code",
   "execution_count": null,
   "id": "931c5ae4",
   "metadata": {},
   "outputs": [],
   "source": [
    "# Import thư viện\n",
    "import pandas as pd\n",
    "import matplotlib.pyplot as plt\n",
    "import seaborn as sns\n",
    "\n",
    "# Đọc dữ liệu\n",
    "df = pd.read_csv(\"WA_Fn-UseC_-HR-Employee-Attrition.csv\")\n",
    "df.head()"
   ]
  },
  {
   "cell_type": "code",
   "execution_count": null,
   "id": "81d1fc25",
   "metadata": {},
   "outputs": [],
   "source": [
    "# Thống kê thông tin tổng quát\n",
    "df.info()\n"
   ]
  },
  {
   "cell_type": "code",
   "execution_count": null,
   "id": "9ec1b9fe",
   "metadata": {},
   "outputs": [],
   "source": [
    "# Kiểm tra missing value\n",
    "df.isnull().sum()"
   ]
  },
  {
   "cell_type": "code",
   "execution_count": null,
   "id": "e977658b",
   "metadata": {},
   "outputs": [],
   "source": [
    "# Thống kê mô tả các biến số\n",
    "df.describe()"
   ]
  },
  {
   "cell_type": "code",
   "execution_count": null,
   "id": "b9a4aeb8",
   "metadata": {},
   "outputs": [],
   "source": [
    "# Boxplot để khảo sát ngoại lệ\n",
    "plt.figure(figsize=(12, 6))\n",
    "sns.boxplot(data=df.select_dtypes(include='number'), orient='h')\n",
    "plt.title(\"Boxplot - Numerical Variables\")\n",
    "plt.show()"
   ]
  },
  {
   "cell_type": "markdown",
   "id": "ef31fab4",
   "metadata": {},
   "source": [
    "## 📌 Phase 2: Làm sạch & Chuẩn hóa"
   ]
  },
  {
   "cell_type": "code",
   "execution_count": null,
   "id": "85ee5fa5",
   "metadata": {},
   "outputs": [],
   "source": [
    "# Đổi tên cột cho đồng bộ\n",
    "df.columns = df.columns.str.strip().str.replace(' ', '_')\n",
    "\n",
    "# Sinh thêm biến AgeBand\n",
    "df['AgeBand'] = pd.cut(df['Age'], bins=[17, 25, 35, 45, 60], labels=[\"18-25\", \"26-35\", \"36-45\", \"46-60\"])\n",
    "\n",
    "# Sinh TenureBand\n",
    "df['TenureBand'] = pd.cut(df['TotalWorkingYears'], bins=[0, 3, 6, 10, 40], labels=[\"0-3\", \"4-6\", \"7-10\", \"11+\"])\n",
    "\n",
    "# WorkLifeBalanceScore mapping\n",
    "df['WorkLifeBalanceScore'] = df['WorkLifeBalance'].map({\n",
    "    1: 'Bad',\n",
    "    2: 'Good',\n",
    "    3: 'Better',\n",
    "    4: 'Best'\n",
    "})\n",
    "\n",
    "df.head()"
   ]
  },
  {
   "cell_type": "markdown",
   "id": "5231ff00",
   "metadata": {},
   "source": [
    "## 📌 Phase 3: Khám phá trực quan (EDA)"
   ]
  },
  {
   "cell_type": "code",
   "execution_count": null,
   "id": "e8e39ac6",
   "metadata": {},
   "outputs": [],
   "source": [
    "# Phân bố nghỉ việc theo Department\n",
    "plt.figure(figsize=(6,4))\n",
    "sns.countplot(data=df, x='Department', hue='Attrition')\n",
    "plt.title(\"Attrition theo Department\")\n",
    "plt.xticks(rotation=45)\n",
    "plt.show()"
   ]
  },
  {
   "cell_type": "code",
   "execution_count": null,
   "id": "3210973e",
   "metadata": {},
   "outputs": [],
   "source": [
    "# Heatmap tương quan\n",
    "plt.figure(figsize=(12, 8))\n",
    "sns.heatmap(df.corr(numeric_only=True), annot=True, cmap='coolwarm')\n",
    "plt.title(\"Heatmap - Correlation giữa các biến số\")\n",
    "plt.show()"
   ]
  },
  {
   "cell_type": "markdown",
   "id": "7be34612",
   "metadata": {},
   "source": [
    "## 📌 Phase 4: KPI cốt lõi"
   ]
  },
  {
   "cell_type": "code",
   "execution_count": null,
   "id": "78cbe687",
   "metadata": {},
   "outputs": [],
   "source": [
    "# KPI 1: Attrition Rate toàn công ty\n",
    "attrition_rate = df['Attrition'].value_counts(normalize=True)['Yes']\n",
    "print(f\"Attrition Rate toàn công ty: {attrition_rate:.2%}\")\n"
   ]
  },
  {
   "cell_type": "code",
   "execution_count": null,
   "id": "34e3aecb",
   "metadata": {},
   "outputs": [],
   "source": [
    "# KPI 2: Attrition theo Department\n",
    "df.groupby('Department')['Attrition'].value_counts(normalize=True).unstack().plot(kind='bar', stacked=True)\n",
    "plt.title(\"Attrition theo Department\")\n",
    "plt.ylabel(\"Tỷ lệ\")\n",
    "plt.show()\n"
   ]
  },
  {
   "cell_type": "code",
   "execution_count": null,
   "id": "af832e80",
   "metadata": {},
   "outputs": [],
   "source": [
    "# KPI 4: Avg Monthly Income theo nhóm nghỉ & không nghỉ\n",
    "df.groupby('Attrition')['MonthlyIncome'].mean()"
   ]
  }
 ],
 "metadata": {},
 "nbformat": 4,
 "nbformat_minor": 5
}